{
 "cells": [
  {
   "cell_type": "code",
   "execution_count": 55,
   "id": "cf3ec1bf-f20b-4c93-a8b6-6112598aeb78",
   "metadata": {},
   "outputs": [],
   "source": [
    "import os\n",
    "from crewai import Agent,Task,Crew,Process,LLM\n",
    "from langchain_openai import ChatOpenAI\n"
   ]
  },
  {
   "cell_type": "code",
   "execution_count": 56,
   "id": "831cee7f-65dd-48ec-949d-a974e56b4d40",
   "metadata": {},
   "outputs": [],
   "source": [
    "os.environ[\"OPENAI_API_KEY\"]=\"sk-proj-111\"\n",
    "os.environ[\"OPENAI_MODEL_NAME\"]=\"gpt-4o\""
   ]
  },
  {
   "cell_type": "code",
   "execution_count": 64,
   "id": "9a5a4891-fd1a-4366-935d-e4068189bb87",
   "metadata": {},
   "outputs": [],
   "source": [
    "llm=LLM(\n",
    "    model=\"ollama/phi3:3.8b\",\n",
    "    base_url=\"http://localhost:11434\"\n",
    ")"
   ]
  },
  {
   "cell_type": "code",
   "execution_count": 65,
   "id": "73989320-7922-4b71-ae94-e57ed691a1f0",
   "metadata": {},
   "outputs": [
    {
     "name": "stdout",
     "output_type": "stream",
     "text": [
      "<crewai.llm.LLM object at 0x000002B5134C26D0>\n"
     ]
    }
   ],
   "source": [
    "print(llm)"
   ]
  },
  {
   "cell_type": "code",
   "execution_count": 66,
   "id": "d874479f-f10c-46af-ae9c-027eb8316006",
   "metadata": {},
   "outputs": [],
   "source": [
    "info_agent=Agent(role='Information Agent',\n",
    "                 goal='give compelling information about a certain task',\n",
    "                 backstory='''\n",
    "                 you love to know information.people love you and hate you for it you win most of your quizzes at your local pub\n",
    "                ''',\n",
    "                 llm=llm\n",
    "                )"
   ]
  },
  {
   "cell_type": "code",
   "execution_count": 67,
   "id": "386adbc0-b126-47ca-a42b-8b656104cef2",
   "metadata": {},
   "outputs": [],
   "source": [
    "task1=Task(\n",
    "    description=\"Tell me about the blue ringed octopus\",\n",
    "    expected_output=\"Give me a quick Summary and then give me 7 bullet points describing it\",\n",
    "    agent=info_agent\n",
    "    \n",
    "    \n",
    ")"
   ]
  },
  {
   "cell_type": "code",
   "execution_count": 68,
   "id": "09c0e847-9059-4ce1-96c0-971d3cb3361b",
   "metadata": {},
   "outputs": [
    {
     "name": "stderr",
     "output_type": "stream",
     "text": [
      "WARNING:opentelemetry.trace:Overriding of current TracerProvider is not allowed\n"
     ]
    }
   ],
   "source": [
    "crew=Crew(\n",
    "    agents=[info_agent],\n",
    "    tasks=[task1],\n",
    "    verbose=True\n",
    ")\n",
    "\n"
   ]
  },
  {
   "cell_type": "code",
   "execution_count": 69,
   "id": "51716128-c5a6-4592-807b-15a956f11674",
   "metadata": {},
   "outputs": [
    {
     "name": "stdout",
     "output_type": "stream",
     "text": [
      "\u001b[1m\u001b[95m# Agent:\u001b[00m \u001b[1m\u001b[92mInformation Agent\u001b[00m\n",
      "\u001b[95m## Task:\u001b[00m \u001b[92mTell me about the blue ringed octopus\u001b[00m\n",
      "\n",
      "\n",
      "\u001b[1m\u001b[95m# Agent:\u001b[00m \u001b[1m\u001b[92mInformation Agent\u001b[00m\n",
      "\u001b[95m## Final Answer:\u001b[00m \u001b[92m\n",
      "- The blue ringed octopus (Ampharetidae) is a small sea creature known for its deadly venom. Despite their size of only about the length of an adult's hand, they possess enough neurotoxin to be potentially lethal to humans if proper caution isn't exercised around them in aquatic environments such as coral reefs where they are commonly found.\n",
      "- It is native mainly to the waters surrounding New Guinea and the Solomon Islands with some individuals living further afield, indicating a degree of adaptability despite its sensitive habitat requirements within shallow lagoon systems rich in marine life which serves as both home base for feeding and breeding purposes due to their diet primarily consisting on small fishes, crustaceans etc.\n",
      "- Their most distinctive feature is the bright blue ring encircling each side of its body (hence \"blue\" ringed octopus), serving an essential function in a defensive mechanism against predators as it releases this neurotoxic venom when threatened which causes numbing sensations, muscle paralysis and rapid heart rate leading to difficulty breathing or even death if not treated promptly.\n",
      "- These cephalopods have three hearts; two pump blood directly around the body while one deals with filling its siphon (a muscular structure used for propulsion) thereby facilitating both movement through water as well an efficient distribution of oxygen throughout their system due to constant breathing in and out via a specialized skin fold.\n",
      "- Reproduction is sexual involving mating where males will transfer spermatophores directly onto the female's body during copulation which are then stored within her until eggs have been fully fertilized ready for laying; it takes approximately one year from when they mate till their first brood of 20-30 babies hatch out as tiny versions themselves after about three months undergoing further developmental stages before reaching maturity.\n",
      "- As a formidable predator, this species demonstrates exceptional camouflage abilities where it can change colour and texture to blend into its environment thus effectively becoming invisible until prey comes within reach providing them ample opportunity for an unsuspecting meal without drawing attention from potential threats - showcasing nature's brilliance in evolutionary design!\n",
      "- Despite being notorious throughout history with numerous accounts of fatal encoun0bations arising out fear rather than knowledge regarding these creatures; respectful acknowledgement and awareness is vital when interacting near their habitats especially for divers exploring tropical waters ensuring safety alongside preservation efforts towards maintaining balance within our oceanic ecosystems.\u001b[00m\n",
      "\n",
      "\n"
     ]
    }
   ],
   "source": [
    "\n",
    "result=crew.kickoff()\n"
   ]
  },
  {
   "cell_type": "code",
   "execution_count": 1,
   "id": "ad288afe-94a1-47a3-b5cb-81d52c4b5a21",
   "metadata": {},
   "outputs": [],
   "source": [
    "## now h=we have process as well\n",
    "\n"
   ]
  },
  {
   "cell_type": "code",
   "execution_count": 17,
   "id": "8d23d6be-39f3-451f-bfa6-80fd3eec7d9d",
   "metadata": {},
   "outputs": [],
   "source": [
    "from crewai import Agent,Task,Crew,Process\n",
    "from langchain_openai import ChatOpenAI"
   ]
  },
  {
   "cell_type": "code",
   "execution_count": 5,
   "id": "db049b44-ffe0-441f-9023-bf9cb462b605",
   "metadata": {},
   "outputs": [
    {
     "name": "stdout",
     "output_type": "stream",
     "text": [
      "starting math problem\n"
     ]
    }
   ],
   "source": [
    "print(\"starting math problem\")\n",
    "\n",
    "math_input=\"2+2\"\n"
   ]
  },
  {
   "cell_type": "code",
   "execution_count": 6,
   "id": "486bb12a-1adf-4527-a8cc-3519b7f3d847",
   "metadata": {},
   "outputs": [
    {
     "name": "stdout",
     "output_type": "stream",
     "text": [
      "2+2\n"
     ]
    }
   ],
   "source": [
    "print(math_input)"
   ]
  },
  {
   "cell_type": "code",
   "execution_count": 7,
   "id": "f52ba430-78ab-4a3c-9181-dd57f6ab1c30",
   "metadata": {},
   "outputs": [],
   "source": [
    "from langchain_community.tools import tool"
   ]
  },
  {
   "cell_type": "code",
   "execution_count": 8,
   "id": "19337102-4391-4dd5-8ca5-dff52d8775ec",
   "metadata": {},
   "outputs": [],
   "source": [
    "@tool(\"Calculate\")\n",
    "def calculate(equation):\n",
    "    \"\"\" useful for solving math equations   \"\"\"\n",
    "    return eval(equation)\n",
    "    \n"
   ]
  },
  {
   "cell_type": "code",
   "execution_count": 9,
   "id": "d4fe42b7-6e21-4d7c-8946-932d0973a777",
   "metadata": {},
   "outputs": [],
   "source": [
    "math_agent=Agent(\n",
    "    role=\"Math Magician\",\n",
    "    goal=\"You are able to solve any math expression\",\n",
    "    backstory=\"YOU ARE A MATH WHIZ.\",\n",
    "    verbose=True,\n",
    "    tools=[calculate]\n",
    "    \n",
    ")\n",
    "\n",
    "    \n",
    "    "
   ]
  },
  {
   "cell_type": "code",
   "execution_count": 14,
   "id": "4259ab9d-3801-4172-bf55-2a54b132dd2e",
   "metadata": {},
   "outputs": [],
   "source": [
    "writer=Agent(\n",
    "    role=\"writer\",\n",
    "    goal=\"Craft  compelling explanations based form results of math equations.\",\n",
    "    backstory=\"\"\" You are a renowned Content Strategist,known for your insightful and engaging articles.\n",
    "    you transform complex concepts into  compelling narratives\"\"\",\n",
    "    verbose=True\n",
    ")\n",
    "\n",
    "task1 = Task(\n",
    "    description=f\"{math_input}\",\n",
    "    expected_output=\"Give full details in bullet points\",\n",
    "    agent=math_agent\n",
    ")\n",
    "\n",
    "task2=Task(\n",
    "    description= \"using the insights provided,explain in great detail how the equation and result were formed.\",\n",
    "    expected_output=\"\"\" Explain in great detail and save in markdown. Do not add the triple tick marks at the beginning or end of the file.\n",
    "    also do not say what type it is in the first line.\"\"\",\n",
    "    output_file=\"math.md\",\n",
    "    agent=writer\n",
    ")\n",
    "\n",
    "crew=Crew(\n",
    "    agents=[math_agent,writer],\n",
    "    tasks=[task1,task2],\n",
    "    process=Process.sequential,\n",
    "    verbose=True\n",
    ")\n",
    "\n",
    "    \n",
    "\n",
    "    \n",
    "\n",
    "    "
   ]
  },
  {
   "cell_type": "code",
   "execution_count": 15,
   "id": "db69862b-c8d5-414b-b0ed-3f0163b2be6d",
   "metadata": {},
   "outputs": [
    {
     "name": "stdout",
     "output_type": "stream",
     "text": [
      "\u001b[1m\u001b[95m# Agent:\u001b[00m \u001b[1m\u001b[92mMath Magician\u001b[00m\n",
      "\u001b[95m## Task:\u001b[00m \u001b[92m2+2\u001b[00m\n",
      "\n",
      "\n",
      "\u001b[1m\u001b[95m# Agent:\u001b[00m \u001b[1m\u001b[92mMath Magician\u001b[00m\n",
      "\u001b[95m## Using tool:\u001b[00m \u001b[92mCalculate\u001b[00m\n",
      "\u001b[95m## Tool Input:\u001b[00m \u001b[92m\n",
      "\"{\\\"equation\\\": \\\"2+2\\\"}\"\u001b[00m\n",
      "\u001b[95m## Tool Output:\u001b[00m \u001b[92m\n",
      "4\u001b[00m\n",
      "\n",
      "\n",
      "\u001b[1m\u001b[95m# Agent:\u001b[00m \u001b[1m\u001b[92mMath Magician\u001b[00m\n",
      "\u001b[95m## Final Answer:\u001b[00m \u001b[92m\n",
      "- The expression given is 2+2.\n",
      "- This is a simple arithmetic addition problem.\n",
      "- When you add 2 and 2 together, the sum is 4.\n",
      "- Thus, the result of the expression 2+2 is 4.\u001b[00m\n",
      "\n",
      "\n",
      "\u001b[1m\u001b[95m# Agent:\u001b[00m \u001b[1m\u001b[92mwriter\u001b[00m\n",
      "\u001b[95m## Task:\u001b[00m \u001b[92musing the insights provided,explain in great detail how the equation and result were formed.\u001b[00m\n",
      "\n",
      "\n",
      "\u001b[1m\u001b[95m# Agent:\u001b[00m \u001b[1m\u001b[92mwriter\u001b[00m\n",
      "\u001b[95m## Final Answer:\u001b[00m \u001b[92m\n",
      "### Understanding the Expression: 2+2\n",
      "\n",
      "Arithmetic, the fundamental building block of mathematics, enables us to perform calculations that solve a wide range of problems. One of the simplest forms of arithmetic is addition, a process of combining two or more numbers to obtain a new total. In this context, let us delve into the expression **2 + 2** to understand its formation and outcome.\n",
      "\n",
      "#### The Components of the Expression\n",
      "\n",
      "The expression \"2 + 2\" consists of:\n",
      "- **Operands:** These are the quantities being added, which in this case are both the numeral 2. Each '2' represents two distinct units or entities.\n",
      "- **Operator:** The addition sign '+' signifies that the operation to be performed is addition.\n",
      "\n",
      "#### Performing the Addition\n",
      "\n",
      "Addition in arithmetic involves finding the total or sum by combining numbers. Here is how it works with the expression 2 + 2:\n",
      "\n",
      "1. **Identify the Operands:** We have the numbers 2 and 2.\n",
      "2. **Combine the Values:** By using the addition operator '+', we combine the two numbers. This means we are pooling their values together.\n",
      "3. **Count the Total:** Imagine if you have two groups of two apples. Combining these groups results in a total of four apples.\n",
      "\n",
      "#### Resulting Sum\n",
      "\n",
      "When the operation as described above is performed, we achieve a numerical sum. \n",
      "\n",
      "- **Mathematical Operation:** 2 + 2\n",
      "- **Result:** 4\n",
      "\n",
      "This result can be visualized conceptually by claiming that if you start with two separate groups containing two identical things such as apples, combining both groups expands your collection to four apples. This total, 4, is the outcome of applying the basic principle of addition to the original expression.\n",
      "\n",
      "### Conclusion\n",
      "\n",
      "The operation 2 + 2 is a straightforward exercise in addition that reveals the sum of combining the two numerical values, resulting in the number 4. This fundamental arithmetic operation is essential for understanding more complex mathematical concepts.\n",
      "\n",
      "Understanding these basic principles lays the groundwork for more complex arithmetic and mathematical reasoning, offering a glimpse into the inherent power of numbers and operations that shape the world around us.\u001b[00m\n",
      "\n",
      "\n"
     ]
    }
   ],
   "source": [
    "result=crew.kickoff()"
   ]
  },
  {
   "cell_type": "code",
   "execution_count": null,
   "id": "3205becf-f0e2-4b0e-875b-31a0e1530e10",
   "metadata": {},
   "outputs": [],
   "source": []
  }
 ],
 "metadata": {
  "kernelspec": {
   "display_name": "Python 3 (ipykernel)",
   "language": "python",
   "name": "python3"
  },
  "language_info": {
   "codemirror_mode": {
    "name": "ipython",
    "version": 3
   },
   "file_extension": ".py",
   "mimetype": "text/x-python",
   "name": "python",
   "nbconvert_exporter": "python",
   "pygments_lexer": "ipython3",
   "version": "3.12.3"
  }
 },
 "nbformat": 4,
 "nbformat_minor": 5
}
